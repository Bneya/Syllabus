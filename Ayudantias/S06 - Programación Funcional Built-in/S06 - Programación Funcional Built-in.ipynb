{
 "cells": [
  {
   "cell_type": "markdown",
   "metadata": {},
   "source": [
    "# Programación funcional\n",
    "\n",
    "**Santiago Torres y Andrés Fernández**\n",
    "\n",
    "## ¿Por qué?\n",
    "\n",
    "- Existen lenguajes de programación que utilizan este paradigma.\n",
    "- Procesamiento de información optimizada.\n",
    "\n",
    "## Actividad 6 2017-1\n",
    "\n",
    "Pueden encontrar el enunciado completo de esta actividad [aquí](https://github.com/IIC2233/Syllabus-2017-1/blob/master/Actividades/AC06/Enunciado.pdf).\n",
    "\n"
   ]
  },
  {
   "cell_type": "markdown",
   "metadata": {},
   "source": [
    "> - **`movies.txt`**: Archivo de texto que contiene la información de las películas que puedes ver, de la forma: IDPelícula, Nombre Pelicula, Rating, Fecha de estreno, $género_1$, $género_2$, ..., $género_n$ (es una cantidad variable de géneros).\n",
    "> - **`cast.txt`**: Archivo de texto que alberga la información de los artistas que trabajaron en las películas. Está distribuido de la forma: Nombre Película, Nombre Artista, Nombre Personaje."
   ]
  },
  {
   "cell_type": "code",
   "execution_count": null,
   "metadata": {
    "collapsed": true
   },
   "outputs": [],
   "source": []
  },
  {
   "cell_type": "markdown",
   "metadata": {},
   "source": [
    "> - Cada película debe tener su propio `id` el cual debe estar implementado con **generadores**. El `id` es distinto al que trae la base de datos, para que puedas distinguirla con tu programa."
   ]
  },
  {
   "cell_type": "code",
   "execution_count": null,
   "metadata": {
    "collapsed": true
   },
   "outputs": [],
   "source": [
    "def get_id():\n",
    "    pass"
   ]
  },
  {
   "cell_type": "code",
   "execution_count": null,
   "metadata": {
    "collapsed": true
   },
   "outputs": [],
   "source": [
    "class Movie:\n",
    "    \n",
    "    \n",
    "    \n",
    "    def __init__(self):\n",
    "        pass"
   ]
  },
  {
   "cell_type": "code",
   "execution_count": null,
   "metadata": {
    "collapsed": true
   },
   "outputs": [],
   "source": [
    "\n",
    "\n",
    "MOVIES = list()\n",
    "with open(\"movies.txt\") as file:\n",
    "    MOVIES = list()\n",
    "    \n",
    "CASTS = list()\n",
    "with open(\"cast.txt\") as file:\n",
    "    CASTS = list()"
   ]
  },
  {
   "cell_type": "markdown",
   "metadata": {},
   "source": [
    "> - Crear el método `popular` que dado un número, retorne todas las películas que tienen un rating superior a dicho valor."
   ]
  },
  {
   "cell_type": "code",
   "execution_count": null,
   "metadata": {
    "collapsed": true
   },
   "outputs": [],
   "source": [
    "def popular(movies, n):\n",
    "        \"\"\" Retorna una lista de peliculas con rating sobre n\"\"\"\n",
    "        return"
   ]
  },
  {
   "cell_type": "code",
   "execution_count": null,
   "metadata": {
    "collapsed": true
   },
   "outputs": [],
   "source": [
    "for top in popular(MOVIES, 20):\n",
    "    print(top.title)"
   ]
  },
  {
   "cell_type": "markdown",
   "metadata": {},
   "source": [
    "> - Crear el método `with_genres` que dado un número `n`, retorne todas las películas que tienen `n` o más géneros."
   ]
  },
  {
   "cell_type": "code",
   "execution_count": null,
   "metadata": {
    "collapsed": true
   },
   "outputs": [],
   "source": [
    "def with_genres(movies, n):\n",
    "        \"\"\"Retorna una lista de peliculas con mas de n generos \"\"\"\n",
    "        return"
   ]
  },
  {
   "cell_type": "markdown",
   "metadata": {},
   "source": [
    "> - Crear el método `tops_of_genre` que dado un género, retorne las 10 mejores películas ordenadas."
   ]
  },
  {
   "cell_type": "code",
   "execution_count": null,
   "metadata": {
    "collapsed": true
   },
   "outputs": [],
   "source": [
    "def tops_of_genre(movies, genre):\n",
    "        \"\"\" Retorna las 10 mejores peliculas de un género\"\"\"\n",
    "        return"
   ]
  },
  {
   "cell_type": "code",
   "execution_count": null,
   "metadata": {
    "collapsed": true
   },
   "outputs": [],
   "source": [
    "for i, top in enumerate(tops_of_genre(MOVIES, \"Drama\")):\n",
    "    print(i + 1, top.title)"
   ]
  },
  {
   "cell_type": "markdown",
   "metadata": {},
   "source": [
    "> - Crear el método `actor_rating` que dado el nombre de un actor, retorna el promedio del rating de las películas en las que ha participado."
   ]
  },
  {
   "cell_type": "code",
   "execution_count": null,
   "metadata": {
    "collapsed": true
   },
   "outputs": [],
   "source": []
  },
  {
   "cell_type": "code",
   "execution_count": null,
   "metadata": {
    "collapsed": true
   },
   "outputs": [],
   "source": [
    "def actor_rating(movies, casts, actor):\n",
    "        \"\"\"Dado el nombre de un actor, retorna el promedio del rating de las\n",
    "            peliculas en las que ha participado \"\"\"\n",
    "        return"
   ]
  },
  {
   "cell_type": "code",
   "execution_count": null,
   "metadata": {
    "collapsed": true
   },
   "outputs": [],
   "source": [
    "print(\"Hugh Jackman's rating: {}\".format(actor_rating(MOVIES, CASTS, \"Hugh Jackman\")))"
   ]
  },
  {
   "cell_type": "markdown",
   "metadata": {},
   "source": [
    "> - Crear el método `compare_actors` que dado el nombre de dos actores, imprima cual de los dos esta mejor valorado según su promedio."
   ]
  },
  {
   "cell_type": "code",
   "execution_count": null,
   "metadata": {
    "collapsed": true
   },
   "outputs": [],
   "source": [
    "def compare_actors(movies, casts, actor1, actor2):\n",
    "        \"\"\"Compara el rating de dos actores e imprime quién supera a quién\"\"\"\n",
    "        pass"
   ]
  },
  {
   "cell_type": "markdown",
   "metadata": {
    "collapsed": true
   },
   "source": [
    "> - Crear el método `movies_of` que dado el nombre de un actor. retorne una lista con tuplas que contenga los pares (pelicula, personaje) en los que actuo."
   ]
  },
  {
   "cell_type": "code",
   "execution_count": null,
   "metadata": {
    "collapsed": true
   },
   "outputs": [],
   "source": [
    "def movies_of(casts, actor):\n",
    "        \"\"\" Retorna una lista de tuplas pelicula, personaje en las que ha\n",
    "        participado un actor en especifico \"\"\"\n",
    "        return return"
   ]
  },
  {
   "cell_type": "code",
   "execution_count": null,
   "metadata": {
    "collapsed": true
   },
   "outputs": [],
   "source": [
    "for movie, character in movies_of(CASTS, \"Hugh Jackman\"):\n",
    "    print(movie)"
   ]
  },
  {
   "cell_type": "markdown",
   "metadata": {},
   "source": [
    "> - Crear el método `from_year` que dado un año, retorne todas las peliculas que se estrenaron en ese año."
   ]
  },
  {
   "cell_type": "code",
   "execution_count": null,
   "metadata": {
    "collapsed": true
   },
   "outputs": [],
   "source": [
    "def from_year(movies, year):\n",
    "        return pass"
   ]
  },
  {
   "cell_type": "code",
   "execution_count": null,
   "metadata": {
    "collapsed": true
   },
   "outputs": [],
   "source": [
    "for movie in from_year(MOVIES, 2017):\n",
    "    print(movie.title)"
   ]
  },
  {
   "cell_type": "markdown",
   "metadata": {},
   "source": [
    "## Generador con `send`"
   ]
  },
  {
   "cell_type": "markdown",
   "metadata": {},
   "source": [
    "## Otras funciones\n",
    "\n",
    "- "
   ]
  }
 ],
 "metadata": {
  "kernelspec": {
   "display_name": "Python 3",
   "language": "python",
   "name": "python3"
  },
  "language_info": {
   "codemirror_mode": {
    "name": "ipython",
    "version": 3
   },
   "file_extension": ".py",
   "mimetype": "text/x-python",
   "name": "python",
   "nbconvert_exporter": "python",
   "pygments_lexer": "ipython3",
   "version": "3.6.2"
  }
 },
 "nbformat": 4,
 "nbformat_minor": 2
}
