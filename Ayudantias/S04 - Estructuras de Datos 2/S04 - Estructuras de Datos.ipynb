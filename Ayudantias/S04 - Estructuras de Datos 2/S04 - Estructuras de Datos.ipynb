{
 "cells": [
  {
   "cell_type": "markdown",
   "metadata": {},
   "source": [
    "# Ayudantía 4\n",
    "\n",
    "Jose Larraín y Joaquín Tagle\n",
    "\n",
    "# Solución a algún problema que se le ocurrió a algúna persona ociosa\n",
    "\n",
    "### Estructuras de Datos (personalizadas)\n",
    "\n",
    "En esta ayudantía, se verá como modelar y programar una estructura de datos particular, que sirve para un problema específico. Si logras seguir el razonamiento bien, y entiendes el procedimiento de como llegamos a eso, entonces el jueves no deberías tener ningún problema.\n",
    "\n",
    "\n",
    "\n",
    "\n",
    "### Entonces, la adivinanza dice así.\n",
    "\n",
    "Habían 3 personas, una \"común\", un alumno de intro a la progra, y un alumno de avanzada. De repente, se les acerca Hernán el iluminador que estaba filosofando por la alamenda, y con aires de grandeza les pregunta a los tres: **\"Dado un texto de largo n, les pido que para cualquier texto que yo entregue, me digan rápidamente cuántas veces se repite el substring dentro del texto, si no no podré dormir tranquilo por el resto de mis días\"**\n",
    "\n",
    "Ideas?\n",
    "\n",
    "\n",
    "\n",
    "\n",
    "\n",
    ".\n",
    "\n",
    ".\n",
    "\n",
    ".\n",
    "\n",
    ".\n",
    "\n",
    ".\n",
    "\n",
    ".\n",
    "\n",
    ".\n",
    "\n",
    "\n",
    "\n",
    "\n",
    "**Persona común (que magicamente sabe que significa substring)**: \"Imprimo el texto en una hoja (o lo escribo a mano), le pregunto la palabra. Luego leo todo el texto y voy subrayando cuando aparece el substring. Después cuento todas las veces que destaqué, y le respondo eso\"\n",
    "\n",
    "**Persona con intro a la progra**: \"Ppppffff, novato. Yo hago un programa en python que me hace un for sobre todo el texto, avanza uno por uno, y va haciendo \n",
    "```python\n",
    "if texto[i : i+len(substring)] == substring:\n",
    "    contador += 1\n",
    "```\n",
    "Al final, te retorno el valor del contador y me voy a dormir tranquilo.\n",
    "\n",
    "**Alumno de progra avanzada**: ~~responde lo mismo que el de arriba~~ Jajajaja, que tiernos los dos. Hago un arbol de sufijos y y me jubilo para dormir siesta cuando quiera.\n",
    "\n",
    "\n",
    "**Pregunta del ayudante**: ¿Quién estaba en lo correcto?\n",
    "\n",
    "**Pregunta de algún alumno**: ¿Que es un árbol de sufijos?\n",
    "\n",
    "\n",
    "# EXPLICACIÓN EN PIZARRA\n",
    "\n",
    ".\n",
    "\n",
    ".\n",
    "\n",
    ".\n",
    "\n",
    ".\n",
    "\n",
    ".\n",
    "\n",
    ".\n",
    "\n",
    ".\n",
    "\n",
    ".\n",
    "\n",
    ".\n",
    "\n",
    "\n",
    "Ahora que nos quedó claro, metámoslo a código!"
   ]
  },
  {
   "cell_type": "code",
   "execution_count": 1,
   "metadata": {
    "collapsed": true
   },
   "outputs": [],
   "source": [
    "class Node:\n",
    "    \n",
    "    def __init__(self):\n",
    "        pass\n",
    "    \n",
    "    def add_child(self):\n",
    "        pass\n",
    "    \n",
    "    def ask_substring(self):\n",
    "        pass\n",
    "    \n",
    "    def __repr__(self):\n",
    "        pass"
   ]
  },
  {
   "cell_type": "code",
   "execution_count": 2,
   "metadata": {
    "collapsed": true
   },
   "outputs": [],
   "source": [
    "class SuffixTree:\n",
    "    \n",
    "    def __init__(self):\n",
    "        pass\n",
    "    \n",
    "    def __add_sufix(self):\n",
    "        pass\n",
    "    \n",
    "    def count_aparitions(self):\n",
    "        pass\n",
    "    \n",
    "    def __repr__(self):\n",
    "        pass\n",
    "    \n",
    "    def sprint(self):\n",
    "        pass"
   ]
  },
  {
   "cell_type": "code",
   "execution_count": 3,
   "metadata": {
    "collapsed": false
   },
   "outputs": [
    {
     "ename": "TypeError",
     "evalue": "__str__ returned non-string (type NoneType)",
     "output_type": "error",
     "traceback": [
      "\u001b[0;31m---------------------------------------------------------------------------\u001b[0m",
      "\u001b[0;31mTypeError\u001b[0m                                 Traceback (most recent call last)",
      "\u001b[0;32m<ipython-input-3-4156323a5c8f>\u001b[0m in \u001b[0;36m<module>\u001b[0;34m()\u001b[0m\n\u001b[1;32m      1\u001b[0m \u001b[0mtree\u001b[0m \u001b[1;33m=\u001b[0m \u001b[0mSuffixTree\u001b[0m\u001b[1;33m(\u001b[0m\u001b[1;33m)\u001b[0m\u001b[1;33m\u001b[0m\u001b[0m\n\u001b[0;32m----> 2\u001b[0;31m \u001b[0mprint\u001b[0m\u001b[1;33m(\u001b[0m\u001b[0mtree\u001b[0m\u001b[1;33m)\u001b[0m\u001b[1;33m\u001b[0m\u001b[0m\n\u001b[0m\u001b[1;32m      3\u001b[0m \u001b[0mtree\u001b[0m\u001b[1;33m.\u001b[0m\u001b[0madd_word\u001b[0m\u001b[1;33m(\u001b[0m\u001b[1;34m\"mapapar\"\u001b[0m\u001b[1;33m)\u001b[0m\u001b[1;33m\u001b[0m\u001b[0m\n\u001b[1;32m      4\u001b[0m \u001b[0mtree\u001b[0m\u001b[1;33m.\u001b[0m\u001b[0msprint\u001b[0m\u001b[1;33m(\u001b[0m\u001b[1;33m)\u001b[0m\u001b[1;33m\u001b[0m\u001b[0m\n\u001b[1;32m      5\u001b[0m \u001b[0mprint\u001b[0m\u001b[1;33m(\u001b[0m\u001b[0mlen\u001b[0m\u001b[1;33m(\u001b[0m\u001b[0mtree\u001b[0m\u001b[1;33m.\u001b[0m\u001b[0mchilds\u001b[0m\u001b[1;33m)\u001b[0m\u001b[1;33m)\u001b[0m\u001b[1;33m\u001b[0m\u001b[0m\n",
      "\u001b[0;31mTypeError\u001b[0m: __str__ returned non-string (type NoneType)"
     ]
    }
   ],
   "source": [
    "tree = SuffixTree()\n",
    "print(tree)\n",
    "tree.add_word(\"mapapar\")\n",
    "tree.sprint()\n",
    "print(len(tree.childs))\n",
    "print(\"P:\", tree.childs[\"p\"].passed)\n",
    "print(\"A:\", tree.childs[\"a\"].passed)\n",
    "tree.count_aparitions(\"apapar\")"
   ]
  },
  {
   "cell_type": "code",
   "execution_count": null,
   "metadata": {
    "collapsed": true
   },
   "outputs": [],
   "source": []
  }
 ],
 "metadata": {
  "kernelspec": {
   "display_name": "Python 3",
   "language": "python",
   "name": "python3"
  },
  "language_info": {
   "codemirror_mode": {
    "name": "ipython",
    "version": 3
   },
   "file_extension": ".py",
   "mimetype": "text/x-python",
   "name": "python",
   "nbconvert_exporter": "python",
   "pygments_lexer": "ipython3",
   "version": "3.5.2"
  }
 },
 "nbformat": 4,
 "nbformat_minor": 1
}
